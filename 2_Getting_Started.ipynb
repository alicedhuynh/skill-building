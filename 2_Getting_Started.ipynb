{
  "nbformat": 4,
  "nbformat_minor": 0,
  "metadata": {
    "colab": {
      "provenance": [],
      "authorship_tag": "ABX9TyP81mjkiFUT83TFC/HkoTp6",
      "include_colab_link": true
    },
    "kernelspec": {
      "name": "python3",
      "display_name": "Python 3"
    },
    "language_info": {
      "name": "python"
    }
  },
  "cells": [
    {
      "cell_type": "markdown",
      "metadata": {
        "id": "view-in-github",
        "colab_type": "text"
      },
      "source": [
        "<a href=\"https://colab.research.google.com/github/alicedhuynh/skill-building/blob/main/2_Getting_Started.ipynb\" target=\"_parent\"><img src=\"https://colab.research.google.com/assets/colab-badge.svg\" alt=\"Open In Colab\"/></a>"
      ]
    },
    {
      "cell_type": "markdown",
      "source": [
        "Let's get started and try out spaCy! In this exercise, you'll be able to try out some of the 60+ available languages.\n",
        "\n",
        "Part 1: English\n",
        "* Use spacy.blank to create a blank Engish(\"en\") nlp object.\n",
        "* Create a `doc` and print it's text."
      ],
      "metadata": {
        "id": "bMTf0DDxgEL4"
      }
    },
    {
      "cell_type": "code",
      "execution_count": 3,
      "metadata": {
        "colab": {
          "base_uri": "https://localhost:8080/"
        },
        "id": "vAfix1t6gA9F",
        "outputId": "56df1058-b2b5-44d1-98be-5b7af0aad747"
      },
      "outputs": [
        {
          "output_type": "stream",
          "name": "stdout",
          "text": [
            "This is a sentence.\n"
          ]
        }
      ],
      "source": [
        "#Import spaCy\n",
        "import spacy\n",
        "\n",
        "# Create the English nlp object\n",
        "nlp = spacy.blank(\"en\")\n",
        "\n",
        "# Process a text\n",
        "doc = nlp(\"This is a sentence.\")\n",
        "\n",
        "# Print the document text\n",
        "print(doc.text)"
      ]
    },
    {
      "cell_type": "markdown",
      "source": [
        "Part 2: German\n",
        "* Use `spacy.blank` to create a blank German `(\"de\") nlp` object\n",
        "* Create a `doc` and print its text.\n"
      ],
      "metadata": {
        "id": "i_ohvRVoic-y"
      }
    },
    {
      "cell_type": "code",
      "source": [
        "# Import spaCy\n",
        "import spacy\n",
        "\n",
        "# Create the German nlp object\n",
        "nlp = spacy.blank(\"de\")\n",
        "\n",
        "# Process a text (this is German for: \"Kind regards!\")\n",
        "doc = nlp(\"Liebe Grüße!\")\n",
        "\n",
        "# Print the document text\n",
        "print(doc.text)"
      ],
      "metadata": {
        "id": "7UpozgjtiwGt",
        "colab": {
          "base_uri": "https://localhost:8080/"
        },
        "outputId": "28d36b49-7374-431a-85e2-e5fc94c1312e"
      },
      "execution_count": 2,
      "outputs": [
        {
          "output_type": "stream",
          "name": "stdout",
          "text": [
            "Liebe Grüße!\n"
          ]
        }
      ]
    },
    {
      "cell_type": "markdown",
      "source": [
        "Part 3\n",
        "* Use `spacy.blank` to create a blank Spanish `(\"es\")nlp` object.\n",
        "* Create a `doc` and print its text."
      ],
      "metadata": {
        "id": "P_LOrJx1SLOl"
      }
    },
    {
      "cell_type": "code",
      "source": [
        "# import spaCy\n",
        "import spacy\n",
        "\n",
        "# Create the Spanish nlp object\n",
        "nlp = spacy.blank(\"es\")\n",
        "\n",
        "# Procress a text ( this is a spanish text for:\"How are you?\")\n",
        "doc = nlp(\"¿Cómo estás?\")\n",
        "\n",
        "# Print the document text\n",
        "print(doc.text)"
      ],
      "metadata": {
        "colab": {
          "base_uri": "https://localhost:8080/"
        },
        "id": "HNxGXR0sScOG",
        "outputId": "d1848ee5-fdf2-41a8-d023-2fde751ecb03"
      },
      "execution_count": 1,
      "outputs": [
        {
          "output_type": "stream",
          "name": "stdout",
          "text": [
            "¿Cómo estás?\n"
          ]
        }
      ]
    }
  ]
}