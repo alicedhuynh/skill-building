{
  "nbformat": 4,
  "nbformat_minor": 0,
  "metadata": {
    "colab": {
      "provenance": [],
      "authorship_tag": "ABX9TyPh7E+a/4PPIZZXUm3RcHc/",
      "include_colab_link": true
    },
    "kernelspec": {
      "name": "python3",
      "display_name": "Python 3"
    },
    "language_info": {
      "name": "python"
    }
  },
  "cells": [
    {
      "cell_type": "markdown",
      "metadata": {
        "id": "view-in-github",
        "colab_type": "text"
      },
      "source": [
        "<a href=\"https://colab.research.google.com/github/alicedhuynh/skill-building/blob/main/Introduction_to_spaCy.ipynb\" target=\"_parent\"><img src=\"https://colab.research.google.com/assets/colab-badge.svg\" alt=\"Open In Colab\"/></a>"
      ]
    },
    {
      "cell_type": "markdown",
      "source": [
        "The nlp object"
      ],
      "metadata": {
        "id": "FVycp_eO3Fen"
      }
    },
    {
      "cell_type": "code",
      "execution_count": null,
      "metadata": {
        "id": "5lkJ_vK-ZJMe"
      },
      "outputs": [],
      "source": [
        "# Import spaCy\n",
        "import spacy"
      ]
    },
    {
      "cell_type": "code",
      "source": [
        "# Create a blank English nlp object\n",
        "nlp = spacy.blank(\"en\")"
      ],
      "metadata": {
        "id": "k-lmQtr2ZPRg"
      },
      "execution_count": null,
      "outputs": []
    },
    {
      "cell_type": "markdown",
      "source": [
        "The Doc object"
      ],
      "metadata": {
        "id": "puh2DKyn3XnE"
      }
    },
    {
      "cell_type": "code",
      "source": [
        "# Created by processing a string of text with nlp object\n",
        "doc = nlp(\"Hello world!\")"
      ],
      "metadata": {
        "id": "C277-CfWZb-d"
      },
      "execution_count": null,
      "outputs": []
    },
    {
      "cell_type": "code",
      "source": [
        "# Iterate over tokens in a Doc to get a single Token\n",
        "for token in doc:\n",
        "    print(token.text)"
      ],
      "metadata": {
        "colab": {
          "base_uri": "https://localhost:8080/"
        },
        "id": "3H0tHTcqZhpK",
        "outputId": "58e21334-9d10-4e78-a74c-3859b1925d27"
      },
      "execution_count": null,
      "outputs": [
        {
          "output_type": "stream",
          "name": "stdout",
          "text": [
            "Hello\n",
            "world\n",
            "!\n"
          ]
        }
      ]
    },
    {
      "cell_type": "markdown",
      "source": [
        "The Token object"
      ],
      "metadata": {
        "id": "2PwHY-UoNTBQ"
      }
    },
    {
      "cell_type": "code",
      "source": [
        "token = doc[1]\n",
        "\n",
        "# Get the token text via the .text attribute\n",
        "print(token.text)"
      ],
      "metadata": {
        "id": "sq6gAlbOZ3sk",
        "colab": {
          "base_uri": "https://localhost:8080/"
        },
        "outputId": "fed0c738-2e2f-4d33-f08b-273200640e0a"
      },
      "execution_count": null,
      "outputs": [
        {
          "output_type": "stream",
          "name": "stdout",
          "text": [
            "world\n"
          ]
        }
      ]
    },
    {
      "cell_type": "markdown",
      "source": [
        "The Span object"
      ],
      "metadata": {
        "id": "h1kUgRtxNdOP"
      }
    },
    {
      "cell_type": "code",
      "source": [
        "doc = nlp(\"Hello world!\")\n",
        "\n",
        "# A slice form the Doc is a Span object\n",
        "span = doc[1:3]\n",
        "\n",
        "# Get the span text via the .text attribute\n",
        "print(span.text)"
      ],
      "metadata": {
        "colab": {
          "base_uri": "https://localhost:8080/"
        },
        "id": "dOFv95bFdPob",
        "outputId": "f6dfca98-1cfb-45aa-e7f7-3cffdefa3a48"
      },
      "execution_count": null,
      "outputs": [
        {
          "output_type": "stream",
          "name": "stdout",
          "text": [
            "world!\n"
          ]
        }
      ]
    },
    {
      "cell_type": "markdown",
      "source": [
        "Lexcial Attributes"
      ],
      "metadata": {
        "id": "fzJ5OxjZNjkS"
      }
    },
    {
      "cell_type": "code",
      "source": [
        "doc = nlp(\"It costs $5.\")"
      ],
      "metadata": {
        "id": "LgfBNHTuiY0u"
      },
      "execution_count": 12,
      "outputs": []
    },
    {
      "cell_type": "code",
      "source": [
        "print(\"Index: \", [token.i for token in doc])\n",
        "print(\"Text: \", [token.text for token in doc])\n",
        "\n",
        "print(\"is_alpha:\", [token.is_alpha for token in doc])\n",
        "print(\"is_punct\", [token.is_punct for token in doc])\n",
        "print(\"like_num\", [token.like_num for token in doc])"
      ],
      "metadata": {
        "colab": {
          "base_uri": "https://localhost:8080/"
        },
        "id": "gu49ICQGNjDw",
        "outputId": "73e8fb9b-d83a-4aee-bee2-25e6fbef37d7"
      },
      "execution_count": 11,
      "outputs": [
        {
          "output_type": "stream",
          "name": "stdout",
          "text": [
            "Index:  [0, 1, 2]\n",
            "Text:  ['Hello', 'world', '!']\n",
            "is_alpha: [True, True, False]\n",
            "is_punct [False, False, True]\n",
            "like_num [False, False, False]\n"
          ]
        }
      ]
    }
  ]
}