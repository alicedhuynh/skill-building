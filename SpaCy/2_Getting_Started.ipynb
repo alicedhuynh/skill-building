{
  "nbformat": 4,
  "nbformat_minor": 0,
  "metadata": {
    "colab": {
      "provenance": [],
      "authorship_tag": "ABX9TyPhbiAi9be9p8ZjNvTItCkt",
      "include_colab_link": true
    },
    "kernelspec": {
      "name": "python3",
      "display_name": "Python 3"
    },
    "language_info": {
      "name": "python"
    }
  },
  "cells": [
    {
      "cell_type": "markdown",
      "metadata": {
        "id": "view-in-github",
        "colab_type": "text"
      },
      "source": [
        "<a href=\"https://colab.research.google.com/github/alicedhuynh/skill-building/blob/main/2_Getting_Started.ipynb\" target=\"_parent\"><img src=\"https://colab.research.google.com/assets/colab-badge.svg\" alt=\"Open In Colab\"/></a>"
      ]
    },
    {
      "cell_type": "markdown",
      "source": [
        "Let's get started and try out spaCy! In this exercise, you'll be able to try out some of the 60+ available languages.\n",
        "\n",
        "Part 1: English\n",
        "* Use spacy.blank to create a blank Engish(\"en\") nlp object.\n",
        "* Create a `doc` and print it's text."
      ],
      "metadata": {
        "id": "bMTf0DDxgEL4"
      }
    },
    {
      "cell_type": "code",
      "execution_count": 3,
      "metadata": {
        "colab": {
          "base_uri": "https://localhost:8080/"
        },
        "id": "vAfix1t6gA9F",
        "outputId": "31797069-5b96-47ff-ce65-10effe958b0c"
      },
      "outputs": [
        {
          "output_type": "stream",
          "name": "stdout",
          "text": [
            "This is a sentence.\n"
          ]
        }
      ],
      "source": [
        "#Import spaCy\n",
        "import spacy\n",
        "\n",
        "# Create the English nlp object\n",
        "nlp = spacy.blank(\"en\")\n",
        "\n",
        "# Process a text\n",
        "doc = nlp(\"This is a sentence.\")\n",
        "\n",
        "# Print the document text\n",
        "print(doc.text)"
      ]
    },
    {
      "cell_type": "markdown",
      "source": [
        "Part 2: German\n",
        "* Use `spacy.blank` to create a blank German `(\"de\") nlp` object\n",
        "* Create a `doc` and print its text.\n"
      ],
      "metadata": {
        "id": "i_ohvRVoic-y"
      }
    },
    {
      "cell_type": "code",
      "source": [
        "# Import spaCy\n",
        "import spacy\n",
        "\n",
        "# Create the German nlp object\n",
        "nlp = spacy.blank(\"de\")\n",
        "\n",
        "# Process a text (this is German for: \"Kind regards!\")\n",
        "doc = nlp(\"Liebe Grüße!\")\n",
        "\n",
        "# Print the document text\n",
        "print(doc.text)"
      ],
      "metadata": {
        "id": "7UpozgjtiwGt"
      },
      "execution_count": null,
      "outputs": []
    }
  ]
}
