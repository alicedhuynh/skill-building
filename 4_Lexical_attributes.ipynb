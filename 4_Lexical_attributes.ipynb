{
  "nbformat": 4,
  "nbformat_minor": 0,
  "metadata": {
    "colab": {
      "provenance": [],
      "authorship_tag": "ABX9TyMFG2AC0PBEoQGarZhuhAF5",
      "include_colab_link": true
    },
    "kernelspec": {
      "name": "python3",
      "display_name": "Python 3"
    },
    "language_info": {
      "name": "python"
    }
  },
  "cells": [
    {
      "cell_type": "markdown",
      "metadata": {
        "id": "view-in-github",
        "colab_type": "text"
      },
      "source": [
        "<a href=\"https://colab.research.google.com/github/alicedhuynh/skill-building/blob/main/4_Lexical_attributes.ipynb\" target=\"_parent\"><img src=\"https://colab.research.google.com/assets/colab-badge.svg\" alt=\"Open In Colab\"/></a>"
      ]
    },
    {
      "cell_type": "markdown",
      "source": [
        "In this example, you'll use spaCy's `Doc` and `Token` objects, and lexical attributes to find percentages in a text. You'll be looking for two subsequent tokens: a number and percent sign.\n",
        "\n",
        "* Use the `like_num` token attribute to check whether a token in the `doc` resembles a number.\n",
        "* Get the token *following* current token in the document. The index of th next token in the `doc` is `token.i + 1`\n",
        "* Check whether the next token's `text` attribute the percent sign \"%\""
      ],
      "metadata": {
        "id": "dZPQUAc-18W_"
      }
    },
    {
      "cell_type": "code",
      "execution_count": 1,
      "metadata": {
        "colab": {
          "base_uri": "https://localhost:8080/"
        },
        "id": "ddPX7AiO13td",
        "outputId": "5beb122a-ecdd-4823-edcf-51b25ba5a3b7"
      },
      "outputs": [
        {
          "output_type": "stream",
          "name": "stdout",
          "text": [
            "Percentage found: 60\n",
            "Percentage found: 4\n"
          ]
        }
      ],
      "source": [
        "import spacy\n",
        "\n",
        "nlp = spacy.blank(\"en\")\n",
        "\n",
        "# Process the text\n",
        "doc = nlp(\n",
        "    \"In 1990, more than 60% of people in East Asia were in exterme poverty. \"\n",
        "    \"Now less than 4% are.\"\n",
        ")\n",
        "\n",
        "# Iterate over the tokens in the doc\n",
        "for token in doc:\n",
        "  # Check if the token resembles a number\n",
        "  if token.like_num:\n",
        "    # Get the next token in the document\n",
        "    next_token = doc[token.i +1]\n",
        "    # if the next token's text equal \"%\"\n",
        "    if next_token.text ==\"%\":\n",
        "      print(\"Percentage found:\", token.text)"
      ]
    }
  ]
}